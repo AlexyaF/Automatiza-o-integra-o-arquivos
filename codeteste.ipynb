{
 "cells": [
  {
   "cell_type": "code",
   "execution_count": 136,
   "metadata": {},
   "outputs": [],
   "source": [
    "from selenium import webdriver\n",
    "from webdriver_manager.chrome import ChromeDriverManager\n",
    "from selenium.webdriver.chrome.service import Service \n",
    "from selenium.webdriver.common.by import By\n",
    "from selenium.webdriver.support.ui import WebDriverWait\n",
    "from selenium.webdriver.support import expected_conditions as EC\n",
    "import pandas as pd\n",
    "from selenium.webdriver.common.action_chains import ActionChains\n",
    "import os\n",
    "from time import sleep\n",
    "\n",
    "servico = Service(ChromeDriverManager().install()) # Identifica a versão do navegador atual e vai baixar o Chrome Driver mais recente.\n",
    "\n",
    "navegador = webdriver.Chrome()"
   ]
  },
  {
   "cell_type": "code",
   "execution_count": 137,
   "metadata": {},
   "outputs": [],
   "source": [
    "navegador.get(\"https://webscm.crefaz.com.br/\")"
   ]
  },
  {
   "cell_type": "code",
   "execution_count": 138,
   "metadata": {},
   "outputs": [],
   "source": [
    "#Buscar o elemento e escrever o usuário\n",
    "navegador.find_element('xpath', '//*[@id=\"formulario\"]/div[1]/input').send_keys('ALEXYA.S')\n",
    "navegador.find_element('xpath', '//*[@id=\"formulario\"]/div[2]/input').send_keys('113400AL')\n",
    "\n",
    "#Entrar\n",
    "navegador.find_element('xpath', '//*[@id=\"btentrar\"]').click()"
   ]
  },
  {
   "cell_type": "code",
   "execution_count": 139,
   "metadata": {},
   "outputs": [],
   "source": [
    "#Buscar tela de integracao\n",
    "try:\n",
    "    navegador.find_element('xpath', '//*[@id=\"field5\"]').send_keys(\"Retorno CPFL\")\n",
    "    sleep(5)\n",
    "\n",
    "    # Aguarda o elemento ficar visível\n",
    "    wait = WebDriverWait(navegador, 10)  # Substitua 'navegador' pelo nome do driver\n",
    "    element = wait.until(EC.visibility_of_element_located((By.XPATH, '//*[@id=\"field5-suggestions\"]//span[text()=\"RETORNO CPFL\"]')))\n",
    "    element.click()\n",
    "except:\n",
    "    print(\"ERRO!\")"
   ]
  },
  {
   "cell_type": "code",
   "execution_count": 152,
   "metadata": {},
   "outputs": [
    {
     "data": {
      "text/plain": [
       "'\\\\\\\\10.44.250.4\\\\M-Energia\\\\Colaboradores\\\\Alexya Silva\\\\CPFL\\\\D003_0713464419_20241117_100000.txt'"
      ]
     },
     "execution_count": 152,
     "metadata": {},
     "output_type": "execute_result"
    }
   ],
   "source": [
    "#arquivos\n",
    "pathFolder = r\"\\\\10.44.250.4\\M-Energia\\Colaboradores\\Alexya Silva\\CPFL\"\n",
    "files = os.listdir(pathFolder)\n",
    "allpath = os.path.join(pathFolder, files[0])\n",
    "allpath"
   ]
  },
  {
   "cell_type": "code",
   "execution_count": null,
   "metadata": {},
   "outputs": [],
   "source": [
    "\n",
    "wait = WebDriverWait(navegador, 10) # Aguarda até o elemento estar visível\n",
    "navegador.switch_to.frame(\"cont\") # mudando para o iframe\n",
    "input_element = wait.until(EC.visibility_of_element_located((By.ID, 'Upload1'))) #aguardo até a visibilidade do elemento e identifico \n",
    "input_element.send_keys(allpath) #envio o arquivo \n",
    "\n",
    "\n"
   ]
  },
  {
   "cell_type": "code",
   "execution_count": null,
   "metadata": {},
   "outputs": [],
   "source": [
    "#Identificar como validar o tempo para aguardar e integrar o arquivo!"
   ]
  }
 ],
 "metadata": {
  "kernelspec": {
   "display_name": "Python 3",
   "language": "python",
   "name": "python3"
  },
  "language_info": {
   "codemirror_mode": {
    "name": "ipython",
    "version": 3
   },
   "file_extension": ".py",
   "mimetype": "text/x-python",
   "name": "python",
   "nbconvert_exporter": "python",
   "pygments_lexer": "ipython3",
   "version": "3.12.6"
  }
 },
 "nbformat": 4,
 "nbformat_minor": 2
}
